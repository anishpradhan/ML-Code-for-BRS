{
 "cells": [
  {
   "cell_type": "code",
   "execution_count": 1,
   "metadata": {},
   "outputs": [],
   "source": [
    "import pandas as pd\n",
    "import numpy as np\n",
    "import matplotlib.pyplot as plot\n",
    "import joblib"
   ]
  },
  {
   "cell_type": "markdown",
   "metadata": {},
   "source": [
    "# This is data cleaning and preprocessing part to make data ready for ML algorithm"
   ]
  },
  {
   "cell_type": "markdown",
   "metadata": {},
   "source": [
    "1. Load books, users and rating dataset using pandas read_csv method"
   ]
  },
  {
   "cell_type": "code",
   "execution_count": 2,
   "metadata": {
    "scrolled": true
   },
   "outputs": [
    {
     "name": "stderr",
     "output_type": "stream",
     "text": [
      "b'Skipping line 6452: expected 8 fields, saw 9\\nSkipping line 43667: expected 8 fields, saw 10\\nSkipping line 51751: expected 8 fields, saw 9\\n'\n",
      "b'Skipping line 92038: expected 8 fields, saw 9\\nSkipping line 104319: expected 8 fields, saw 9\\nSkipping line 121768: expected 8 fields, saw 9\\n'\n",
      "b'Skipping line 144058: expected 8 fields, saw 9\\nSkipping line 150789: expected 8 fields, saw 9\\nSkipping line 157128: expected 8 fields, saw 9\\nSkipping line 180189: expected 8 fields, saw 9\\nSkipping line 185738: expected 8 fields, saw 9\\n'\n",
      "b'Skipping line 209388: expected 8 fields, saw 9\\nSkipping line 220626: expected 8 fields, saw 9\\nSkipping line 227933: expected 8 fields, saw 11\\nSkipping line 228957: expected 8 fields, saw 10\\nSkipping line 245933: expected 8 fields, saw 9\\nSkipping line 251296: expected 8 fields, saw 9\\nSkipping line 259941: expected 8 fields, saw 9\\nSkipping line 261529: expected 8 fields, saw 9\\n'\n",
      "E:\\Anaconda\\lib\\site-packages\\IPython\\core\\interactiveshell.py:3071: DtypeWarning: Columns (3) have mixed types.Specify dtype option on import or set low_memory=False.\n",
      "  has_raised = await self.run_ast_nodes(code_ast.body, cell_name,\n"
     ]
    }
   ],
   "source": [
    "books = pd.read_csv(\"../Book_reviews/BX-Books.csv\", sep = ';', error_bad_lines=False, encoding='latin-1')\n",
    "books.columns = ['ISBN', 'bookTitle', 'bookAuthor', 'yearOfPublication', 'publisher', 'imageUrlS', 'imageUrlM', 'imageUrlL']\n",
    "users = pd.read_csv(\"../Book_reviews/BX-Users.csv\", sep = ';', error_bad_lines=False, encoding='latin-1')\n",
    "users.columns = ['userID', 'location', 'age']\n",
    "ratings = pd.read_csv(\"../Book_reviews/BX-Book-Ratings.csv\", sep = ';', error_bad_lines=False, encoding='latin-1')\n",
    "ratings.columns = ['userID', 'ISBN', 'bookRating']"
   ]
  },
  {
   "cell_type": "markdown",
   "metadata": {},
   "source": [
    "2. Display all loaded Dataset to dataframe"
   ]
  },
  {
   "cell_type": "code",
   "execution_count": 3,
   "metadata": {},
   "outputs": [
    {
     "data": {
      "text/html": [
       "<div>\n",
       "<style scoped>\n",
       "    .dataframe tbody tr th:only-of-type {\n",
       "        vertical-align: middle;\n",
       "    }\n",
       "\n",
       "    .dataframe tbody tr th {\n",
       "        vertical-align: top;\n",
       "    }\n",
       "\n",
       "    .dataframe thead th {\n",
       "        text-align: right;\n",
       "    }\n",
       "</style>\n",
       "<table border=\"1\" class=\"dataframe\">\n",
       "  <thead>\n",
       "    <tr style=\"text-align: right;\">\n",
       "      <th></th>\n",
       "      <th>ISBN</th>\n",
       "      <th>bookTitle</th>\n",
       "      <th>bookAuthor</th>\n",
       "      <th>yearOfPublication</th>\n",
       "      <th>publisher</th>\n",
       "      <th>imageUrlS</th>\n",
       "      <th>imageUrlM</th>\n",
       "      <th>imageUrlL</th>\n",
       "    </tr>\n",
       "  </thead>\n",
       "  <tbody>\n",
       "    <tr>\n",
       "      <th>0</th>\n",
       "      <td>0195153448</td>\n",
       "      <td>Classical Mythology</td>\n",
       "      <td>Mark P. O. Morford</td>\n",
       "      <td>2002</td>\n",
       "      <td>Oxford University Press</td>\n",
       "      <td>http://images.amazon.com/images/P/0195153448.0...</td>\n",
       "      <td>http://images.amazon.com/images/P/0195153448.0...</td>\n",
       "      <td>http://images.amazon.com/images/P/0195153448.0...</td>\n",
       "    </tr>\n",
       "    <tr>\n",
       "      <th>1</th>\n",
       "      <td>0002005018</td>\n",
       "      <td>Clara Callan</td>\n",
       "      <td>Richard Bruce Wright</td>\n",
       "      <td>2001</td>\n",
       "      <td>HarperFlamingo Canada</td>\n",
       "      <td>http://images.amazon.com/images/P/0002005018.0...</td>\n",
       "      <td>http://images.amazon.com/images/P/0002005018.0...</td>\n",
       "      <td>http://images.amazon.com/images/P/0002005018.0...</td>\n",
       "    </tr>\n",
       "    <tr>\n",
       "      <th>2</th>\n",
       "      <td>0060973129</td>\n",
       "      <td>Decision in Normandy</td>\n",
       "      <td>Carlo D'Este</td>\n",
       "      <td>1991</td>\n",
       "      <td>HarperPerennial</td>\n",
       "      <td>http://images.amazon.com/images/P/0060973129.0...</td>\n",
       "      <td>http://images.amazon.com/images/P/0060973129.0...</td>\n",
       "      <td>http://images.amazon.com/images/P/0060973129.0...</td>\n",
       "    </tr>\n",
       "    <tr>\n",
       "      <th>3</th>\n",
       "      <td>0374157065</td>\n",
       "      <td>Flu: The Story of the Great Influenza Pandemic...</td>\n",
       "      <td>Gina Bari Kolata</td>\n",
       "      <td>1999</td>\n",
       "      <td>Farrar Straus Giroux</td>\n",
       "      <td>http://images.amazon.com/images/P/0374157065.0...</td>\n",
       "      <td>http://images.amazon.com/images/P/0374157065.0...</td>\n",
       "      <td>http://images.amazon.com/images/P/0374157065.0...</td>\n",
       "    </tr>\n",
       "    <tr>\n",
       "      <th>4</th>\n",
       "      <td>0393045218</td>\n",
       "      <td>The Mummies of Urumchi</td>\n",
       "      <td>E. J. W. Barber</td>\n",
       "      <td>1999</td>\n",
       "      <td>W. W. Norton &amp;amp; Company</td>\n",
       "      <td>http://images.amazon.com/images/P/0393045218.0...</td>\n",
       "      <td>http://images.amazon.com/images/P/0393045218.0...</td>\n",
       "      <td>http://images.amazon.com/images/P/0393045218.0...</td>\n",
       "    </tr>\n",
       "  </tbody>\n",
       "</table>\n",
       "</div>"
      ],
      "text/plain": [
       "         ISBN                                          bookTitle  \\\n",
       "0  0195153448                                Classical Mythology   \n",
       "1  0002005018                                       Clara Callan   \n",
       "2  0060973129                               Decision in Normandy   \n",
       "3  0374157065  Flu: The Story of the Great Influenza Pandemic...   \n",
       "4  0393045218                             The Mummies of Urumchi   \n",
       "\n",
       "             bookAuthor yearOfPublication                   publisher  \\\n",
       "0    Mark P. O. Morford              2002     Oxford University Press   \n",
       "1  Richard Bruce Wright              2001       HarperFlamingo Canada   \n",
       "2          Carlo D'Este              1991             HarperPerennial   \n",
       "3      Gina Bari Kolata              1999        Farrar Straus Giroux   \n",
       "4       E. J. W. Barber              1999  W. W. Norton &amp; Company   \n",
       "\n",
       "                                           imageUrlS  \\\n",
       "0  http://images.amazon.com/images/P/0195153448.0...   \n",
       "1  http://images.amazon.com/images/P/0002005018.0...   \n",
       "2  http://images.amazon.com/images/P/0060973129.0...   \n",
       "3  http://images.amazon.com/images/P/0374157065.0...   \n",
       "4  http://images.amazon.com/images/P/0393045218.0...   \n",
       "\n",
       "                                           imageUrlM  \\\n",
       "0  http://images.amazon.com/images/P/0195153448.0...   \n",
       "1  http://images.amazon.com/images/P/0002005018.0...   \n",
       "2  http://images.amazon.com/images/P/0060973129.0...   \n",
       "3  http://images.amazon.com/images/P/0374157065.0...   \n",
       "4  http://images.amazon.com/images/P/0393045218.0...   \n",
       "\n",
       "                                           imageUrlL  \n",
       "0  http://images.amazon.com/images/P/0195153448.0...  \n",
       "1  http://images.amazon.com/images/P/0002005018.0...  \n",
       "2  http://images.amazon.com/images/P/0060973129.0...  \n",
       "3  http://images.amazon.com/images/P/0374157065.0...  \n",
       "4  http://images.amazon.com/images/P/0393045218.0...  "
      ]
     },
     "execution_count": 3,
     "metadata": {},
     "output_type": "execute_result"
    }
   ],
   "source": [
    "books.head()"
   ]
  },
  {
   "cell_type": "code",
   "execution_count": 4,
   "metadata": {},
   "outputs": [
    {
     "data": {
      "text/html": [
       "<div>\n",
       "<style scoped>\n",
       "    .dataframe tbody tr th:only-of-type {\n",
       "        vertical-align: middle;\n",
       "    }\n",
       "\n",
       "    .dataframe tbody tr th {\n",
       "        vertical-align: top;\n",
       "    }\n",
       "\n",
       "    .dataframe thead th {\n",
       "        text-align: right;\n",
       "    }\n",
       "</style>\n",
       "<table border=\"1\" class=\"dataframe\">\n",
       "  <thead>\n",
       "    <tr style=\"text-align: right;\">\n",
       "      <th></th>\n",
       "      <th>userID</th>\n",
       "      <th>ISBN</th>\n",
       "      <th>bookRating</th>\n",
       "    </tr>\n",
       "  </thead>\n",
       "  <tbody>\n",
       "    <tr>\n",
       "      <th>0</th>\n",
       "      <td>276725</td>\n",
       "      <td>034545104X</td>\n",
       "      <td>0</td>\n",
       "    </tr>\n",
       "    <tr>\n",
       "      <th>1</th>\n",
       "      <td>276726</td>\n",
       "      <td>0155061224</td>\n",
       "      <td>5</td>\n",
       "    </tr>\n",
       "    <tr>\n",
       "      <th>2</th>\n",
       "      <td>276727</td>\n",
       "      <td>0446520802</td>\n",
       "      <td>0</td>\n",
       "    </tr>\n",
       "    <tr>\n",
       "      <th>3</th>\n",
       "      <td>276729</td>\n",
       "      <td>052165615X</td>\n",
       "      <td>3</td>\n",
       "    </tr>\n",
       "    <tr>\n",
       "      <th>4</th>\n",
       "      <td>276729</td>\n",
       "      <td>0521795028</td>\n",
       "      <td>6</td>\n",
       "    </tr>\n",
       "  </tbody>\n",
       "</table>\n",
       "</div>"
      ],
      "text/plain": [
       "   userID        ISBN  bookRating\n",
       "0  276725  034545104X           0\n",
       "1  276726  0155061224           5\n",
       "2  276727  0446520802           0\n",
       "3  276729  052165615X           3\n",
       "4  276729  0521795028           6"
      ]
     },
     "execution_count": 4,
     "metadata": {},
     "output_type": "execute_result"
    }
   ],
   "source": [
    "ratings.head()"
   ]
  },
  {
   "cell_type": "code",
   "execution_count": 5,
   "metadata": {
    "scrolled": false
   },
   "outputs": [
    {
     "data": {
      "text/html": [
       "<div>\n",
       "<style scoped>\n",
       "    .dataframe tbody tr th:only-of-type {\n",
       "        vertical-align: middle;\n",
       "    }\n",
       "\n",
       "    .dataframe tbody tr th {\n",
       "        vertical-align: top;\n",
       "    }\n",
       "\n",
       "    .dataframe thead th {\n",
       "        text-align: right;\n",
       "    }\n",
       "</style>\n",
       "<table border=\"1\" class=\"dataframe\">\n",
       "  <thead>\n",
       "    <tr style=\"text-align: right;\">\n",
       "      <th></th>\n",
       "      <th>userID</th>\n",
       "      <th>location</th>\n",
       "      <th>age</th>\n",
       "    </tr>\n",
       "  </thead>\n",
       "  <tbody>\n",
       "    <tr>\n",
       "      <th>0</th>\n",
       "      <td>1</td>\n",
       "      <td>nyc, new york, usa</td>\n",
       "      <td>NaN</td>\n",
       "    </tr>\n",
       "    <tr>\n",
       "      <th>1</th>\n",
       "      <td>2</td>\n",
       "      <td>stockton, california, usa</td>\n",
       "      <td>18.0</td>\n",
       "    </tr>\n",
       "    <tr>\n",
       "      <th>2</th>\n",
       "      <td>3</td>\n",
       "      <td>moscow, yukon territory, russia</td>\n",
       "      <td>NaN</td>\n",
       "    </tr>\n",
       "    <tr>\n",
       "      <th>3</th>\n",
       "      <td>4</td>\n",
       "      <td>porto, v.n.gaia, portugal</td>\n",
       "      <td>17.0</td>\n",
       "    </tr>\n",
       "    <tr>\n",
       "      <th>4</th>\n",
       "      <td>5</td>\n",
       "      <td>farnborough, hants, united kingdom</td>\n",
       "      <td>NaN</td>\n",
       "    </tr>\n",
       "  </tbody>\n",
       "</table>\n",
       "</div>"
      ],
      "text/plain": [
       "   userID                            location   age\n",
       "0       1                  nyc, new york, usa   NaN\n",
       "1       2           stockton, california, usa  18.0\n",
       "2       3     moscow, yukon territory, russia   NaN\n",
       "3       4           porto, v.n.gaia, portugal  17.0\n",
       "4       5  farnborough, hants, united kingdom   NaN"
      ]
     },
     "execution_count": 5,
     "metadata": {},
     "output_type": "execute_result"
    }
   ],
   "source": [
    "users.head()"
   ]
  },
  {
   "cell_type": "markdown",
   "metadata": {},
   "source": [
    "# For Books part"
   ]
  },
  {
   "cell_type": "markdown",
   "metadata": {},
   "source": [
    "3. Checking all unique values in the yearOfPublication columns of books dataframe"
   ]
  },
  {
   "cell_type": "code",
   "execution_count": 6,
   "metadata": {
    "scrolled": false
   },
   "outputs": [
    {
     "data": {
      "text/plain": [
       "array([2002, 2001, 1991, 1999, 2000, 1993, 1996, 1988, 2004, 1998, 1994,\n",
       "       2003, 1997, 1983, 1979, 1995, 1982, 1985, 1992, 1986, 1978, 1980,\n",
       "       1952, 1987, 1990, 1981, 1989, 1984, 0, 1968, 1961, 1958, 1974,\n",
       "       1976, 1971, 1977, 1975, 1965, 1941, 1970, 1962, 1973, 1972, 1960,\n",
       "       1966, 1920, 1956, 1959, 1953, 1951, 1942, 1963, 1964, 1969, 1954,\n",
       "       1950, 1967, 2005, 1957, 1940, 1937, 1955, 1946, 1936, 1930, 2011,\n",
       "       1925, 1948, 1943, 1947, 1945, 1923, 2020, 1939, 1926, 1938, 2030,\n",
       "       1911, 1904, 1949, 1932, 1928, 1929, 1927, 1931, 1914, 2050, 1934,\n",
       "       1910, 1933, 1902, 1924, 1921, 1900, 2038, 2026, 1944, 1917, 1901,\n",
       "       2010, 1908, 1906, 1935, 1806, 2021, '2000', '1995', '1999', '2004',\n",
       "       '2003', '1990', '1994', '1986', '1989', '2002', '1981', '1993',\n",
       "       '1983', '1982', '1976', '1991', '1977', '1998', '1992', '1996',\n",
       "       '0', '1997', '2001', '1974', '1968', '1987', '1984', '1988',\n",
       "       '1963', '1956', '1970', '1985', '1978', '1973', '1980', '1979',\n",
       "       '1975', '1969', '1961', '1965', '1939', '1958', '1950', '1953',\n",
       "       '1966', '1971', '1959', '1972', '1955', '1957', '1945', '1960',\n",
       "       '1967', '1932', '1924', '1964', '2012', '1911', '1927', '1948',\n",
       "       '1962', '2006', '1952', '1940', '1951', '1931', '1954', '2005',\n",
       "       '1930', '1941', '1944', 'DK Publishing Inc', '1943', '1938',\n",
       "       '1900', '1942', '1923', '1920', '1933', 'Gallimard', '1909',\n",
       "       '1946', '2008', '1378', '2030', '1936', '1947', '2011', '2020',\n",
       "       '1919', '1949', '1922', '1897', '2024', '1376', '1926', '2037'],\n",
       "      dtype=object)"
      ]
     },
     "execution_count": 6,
     "metadata": {},
     "output_type": "execute_result"
    }
   ],
   "source": [
    "books.yearOfPublication.unique()"
   ]
  },
  {
   "cell_type": "markdown",
   "metadata": {},
   "source": [
    "5. Code to display entire values without clipping"
   ]
  },
  {
   "cell_type": "code",
   "execution_count": 7,
   "metadata": {
    "scrolled": true
   },
   "outputs": [
    {
     "name": "stderr",
     "output_type": "stream",
     "text": [
      "<ipython-input-7-0891b765a168>:1: FutureWarning: Passing a negative integer is deprecated in version 1.0 and will not be supported in future version. Instead, use None to not limit the column width.\n",
      "  pd.set_option('display.max_colwidth', -1)\n"
     ]
    }
   ],
   "source": [
    "pd.set_option('display.max_colwidth', -1)"
   ]
  },
  {
   "cell_type": "markdown",
   "metadata": {},
   "source": [
    "6. Checking and correcting data values that are in incorrect columns"
   ]
  },
  {
   "cell_type": "code",
   "execution_count": 8,
   "metadata": {},
   "outputs": [
    {
     "data": {
      "text/html": [
       "<div>\n",
       "<style scoped>\n",
       "    .dataframe tbody tr th:only-of-type {\n",
       "        vertical-align: middle;\n",
       "    }\n",
       "\n",
       "    .dataframe tbody tr th {\n",
       "        vertical-align: top;\n",
       "    }\n",
       "\n",
       "    .dataframe thead th {\n",
       "        text-align: right;\n",
       "    }\n",
       "</style>\n",
       "<table border=\"1\" class=\"dataframe\">\n",
       "  <thead>\n",
       "    <tr style=\"text-align: right;\">\n",
       "      <th></th>\n",
       "      <th>ISBN</th>\n",
       "      <th>bookTitle</th>\n",
       "      <th>bookAuthor</th>\n",
       "      <th>yearOfPublication</th>\n",
       "      <th>publisher</th>\n",
       "      <th>imageUrlS</th>\n",
       "      <th>imageUrlM</th>\n",
       "      <th>imageUrlL</th>\n",
       "    </tr>\n",
       "  </thead>\n",
       "  <tbody>\n",
       "    <tr>\n",
       "      <th>209538</th>\n",
       "      <td>078946697X</td>\n",
       "      <td>DK Readers: Creating the X-Men, How It All Began (Level 4: Proficient Readers)\\\";Michael Teitelbaum\"</td>\n",
       "      <td>2000</td>\n",
       "      <td>DK Publishing Inc</td>\n",
       "      <td>http://images.amazon.com/images/P/078946697X.01.THUMBZZZ.jpg</td>\n",
       "      <td>http://images.amazon.com/images/P/078946697X.01.MZZZZZZZ.jpg</td>\n",
       "      <td>http://images.amazon.com/images/P/078946697X.01.LZZZZZZZ.jpg</td>\n",
       "      <td>NaN</td>\n",
       "    </tr>\n",
       "    <tr>\n",
       "      <th>221678</th>\n",
       "      <td>0789466953</td>\n",
       "      <td>DK Readers: Creating the X-Men, How Comic Books Come to Life (Level 4: Proficient Readers)\\\";James Buckley\"</td>\n",
       "      <td>2000</td>\n",
       "      <td>DK Publishing Inc</td>\n",
       "      <td>http://images.amazon.com/images/P/0789466953.01.THUMBZZZ.jpg</td>\n",
       "      <td>http://images.amazon.com/images/P/0789466953.01.MZZZZZZZ.jpg</td>\n",
       "      <td>http://images.amazon.com/images/P/0789466953.01.LZZZZZZZ.jpg</td>\n",
       "      <td>NaN</td>\n",
       "    </tr>\n",
       "  </tbody>\n",
       "</table>\n",
       "</div>"
      ],
      "text/plain": [
       "              ISBN  \\\n",
       "209538  078946697X   \n",
       "221678  0789466953   \n",
       "\n",
       "                                                                                                          bookTitle  \\\n",
       "209538  DK Readers: Creating the X-Men, How It All Began (Level 4: Proficient Readers)\\\";Michael Teitelbaum\"          \n",
       "221678  DK Readers: Creating the X-Men, How Comic Books Come to Life (Level 4: Proficient Readers)\\\";James Buckley\"   \n",
       "\n",
       "       bookAuthor  yearOfPublication  \\\n",
       "209538  2000       DK Publishing Inc   \n",
       "221678  2000       DK Publishing Inc   \n",
       "\n",
       "                                                           publisher  \\\n",
       "209538  http://images.amazon.com/images/P/078946697X.01.THUMBZZZ.jpg   \n",
       "221678  http://images.amazon.com/images/P/0789466953.01.THUMBZZZ.jpg   \n",
       "\n",
       "                                                           imageUrlS  \\\n",
       "209538  http://images.amazon.com/images/P/078946697X.01.MZZZZZZZ.jpg   \n",
       "221678  http://images.amazon.com/images/P/0789466953.01.MZZZZZZZ.jpg   \n",
       "\n",
       "                                                           imageUrlM imageUrlL  \n",
       "209538  http://images.amazon.com/images/P/078946697X.01.LZZZZZZZ.jpg  NaN       \n",
       "221678  http://images.amazon.com/images/P/0789466953.01.LZZZZZZZ.jpg  NaN       "
      ]
     },
     "execution_count": 8,
     "metadata": {},
     "output_type": "execute_result"
    }
   ],
   "source": [
    "books.loc[books.yearOfPublication == 'DK Publishing Inc']"
   ]
  },
  {
   "cell_type": "code",
   "execution_count": 9,
   "metadata": {},
   "outputs": [],
   "source": [
    "books.loc[books.ISBN == '078946697X', 'imageUrlL'] =  'http://images.amazon.com/images/P/078946697X.01.LZZZZZZZ.jpg'\n",
    "books.loc[books.ISBN == '078946697X', 'imageUrlM'] =  'http://images.amazon.com/images/P/078946697X.01.MZZZZZZZ.jpg'\n",
    "books.loc[books.ISBN == '078946697X', 'imageUrlS'] =  'http://images.amazon.com/images/P/078946697X.01.THUMBZZZ.jpg'\n",
    "books.loc[books.ISBN == '078946697X', 'publisher'] =  'DK Publishing Inc'\n",
    "books.loc[books.ISBN == '078946697X', 'yearOfPublication'] =  '2000'\n",
    "books.loc[books.ISBN == '078946697X', 'bookAuthor'] =  'Michael Teitelbaum'\n",
    "books.loc[books.ISBN == '078946697X', 'bookTitle'] =  'DK Readers: Creating the X-Men, How It All Began (Level 4: Proficient Readers)'\n",
    "\n",
    "books.loc[books.ISBN == '0789466953', 'imageUrlL'] =  'http://images.amazon.com/images/P/0789466953.01.LZZZZZZZ.jpg'\n",
    "books.loc[books.ISBN == '0789466953', 'imageUrlM'] =  'http://images.amazon.com/images/P/0789466953.01.MZZZZZZZ.jpg'\n",
    "books.loc[books.ISBN == '0789466953', 'imageUrlS'] =  'http://images.amazon.com/images/P/0789466953.01.THUMBZZZ.jpg'\n",
    "books.loc[books.ISBN == '0789466953', 'publisher'] =  'DK Publishing Inc'\n",
    "books.loc[books.ISBN == '0789466953', 'yearOfPublication'] =  '2000'\n",
    "books.loc[books.ISBN == '0789466953', 'bookAuthor'] =  'James Buckley'\n",
    "books.loc[books.ISBN == '0789466953', 'bookTitle'] =  'DK Readers: Creating the X-Men, How Comic Books Come to Life (Level 4: Proficient Readers'\n"
   ]
  },
  {
   "cell_type": "code",
   "execution_count": 11,
   "metadata": {},
   "outputs": [
    {
     "data": {
      "text/html": [
       "<div>\n",
       "<style scoped>\n",
       "    .dataframe tbody tr th:only-of-type {\n",
       "        vertical-align: middle;\n",
       "    }\n",
       "\n",
       "    .dataframe tbody tr th {\n",
       "        vertical-align: top;\n",
       "    }\n",
       "\n",
       "    .dataframe thead th {\n",
       "        text-align: right;\n",
       "    }\n",
       "</style>\n",
       "<table border=\"1\" class=\"dataframe\">\n",
       "  <thead>\n",
       "    <tr style=\"text-align: right;\">\n",
       "      <th></th>\n",
       "      <th>ISBN</th>\n",
       "      <th>bookTitle</th>\n",
       "      <th>bookAuthor</th>\n",
       "      <th>yearOfPublication</th>\n",
       "      <th>publisher</th>\n",
       "      <th>imageUrlS</th>\n",
       "      <th>imageUrlM</th>\n",
       "      <th>imageUrlL</th>\n",
       "    </tr>\n",
       "  </thead>\n",
       "  <tbody>\n",
       "    <tr>\n",
       "      <th>220731</th>\n",
       "      <td>2070426769</td>\n",
       "      <td>Peuple du ciel, suivi de 'Les Bergers\\\";Jean-Marie Gustave Le ClÃ?Â©zio\"</td>\n",
       "      <td>2003</td>\n",
       "      <td>Gallimard</td>\n",
       "      <td>http://images.amazon.com/images/P/2070426769.01.THUMBZZZ.jpg</td>\n",
       "      <td>http://images.amazon.com/images/P/2070426769.01.MZZZZZZZ.jpg</td>\n",
       "      <td>http://images.amazon.com/images/P/2070426769.01.LZZZZZZZ.jpg</td>\n",
       "      <td>NaN</td>\n",
       "    </tr>\n",
       "  </tbody>\n",
       "</table>\n",
       "</div>"
      ],
      "text/plain": [
       "              ISBN  \\\n",
       "220731  2070426769   \n",
       "\n",
       "                                                                       bookTitle  \\\n",
       "220731  Peuple du ciel, suivi de 'Les Bergers\\\";Jean-Marie Gustave Le ClÃ?Â©zio\"   \n",
       "\n",
       "       bookAuthor yearOfPublication  \\\n",
       "220731  2003       Gallimard          \n",
       "\n",
       "                                                           publisher  \\\n",
       "220731  http://images.amazon.com/images/P/2070426769.01.THUMBZZZ.jpg   \n",
       "\n",
       "                                                           imageUrlS  \\\n",
       "220731  http://images.amazon.com/images/P/2070426769.01.MZZZZZZZ.jpg   \n",
       "\n",
       "                                                           imageUrlM imageUrlL  \n",
       "220731  http://images.amazon.com/images/P/2070426769.01.LZZZZZZZ.jpg  NaN       "
      ]
     },
     "execution_count": 11,
     "metadata": {},
     "output_type": "execute_result"
    }
   ],
   "source": [
    "books.loc[books.yearOfPublication == 'Gallimard']"
   ]
  },
  {
   "cell_type": "code",
   "execution_count": 12,
   "metadata": {},
   "outputs": [],
   "source": [
    "books.loc[books.ISBN == '2070426769', 'imageUrlL'] =  'http://images.amazon.com/images/P/2070426769.01.LZZZZZZZ.jpg'\n",
    "books.loc[books.ISBN == '2070426769', 'imageUrlM'] =  'http://images.amazon.com/images/P/2070426769.01.MZZZZZZZ.jpg'\n",
    "books.loc[books.ISBN == '2070426769', 'imageUrlS'] =  'http://images.amazon.com/images/P/2070426769.01.THUMBZZZ.jpg'\n",
    "books.loc[books.ISBN == '2070426769', 'publisher'] =  'Gallimard'\n",
    "books.loc[books.ISBN == '2070426769', 'yearOfPublication'] =  '2003'\n",
    "books.loc[books.ISBN == '2070426769', 'bookAuthor'] =  'Jean-Marie Gustave Le ClÃ?Â©zio'\n",
    "books.loc[books.ISBN == '2070426769', 'bookTitle'] =  \"Peuple du ciel, suivi de 'Les Bergers'\"\n"
   ]
  },
  {
   "cell_type": "markdown",
   "metadata": {},
   "source": [
    "7. Checking the percentage of values in yearOfPublication column that is not zero"
   ]
  },
  {
   "cell_type": "code",
   "execution_count": 13,
   "metadata": {},
   "outputs": [
    {
     "data": {
      "text/plain": [
       "98.68440448113208"
      ]
     },
     "execution_count": 13,
     "metadata": {},
     "output_type": "execute_result"
    }
   ],
   "source": [
    "books.loc[books.yearOfPublication != 0].shape[0] / books.shape[0]*100"
   ]
  },
  {
   "cell_type": "code",
   "execution_count": 14,
   "metadata": {},
   "outputs": [
    {
     "data": {
      "text/plain": [
       "(271360, 8)"
      ]
     },
     "execution_count": 14,
     "metadata": {},
     "output_type": "execute_result"
    }
   ],
   "source": [
    "books.shape"
   ]
  },
  {
   "cell_type": "code",
   "execution_count": 15,
   "metadata": {},
   "outputs": [],
   "source": [
    "books.yearOfPublication = pd.to_numeric(books.yearOfPublication, errors = 'coerce')"
   ]
  },
  {
   "cell_type": "code",
   "execution_count": 16,
   "metadata": {},
   "outputs": [
    {
     "data": {
      "text/plain": [
       "dtype('int64')"
      ]
     },
     "execution_count": 16,
     "metadata": {},
     "output_type": "execute_result"
    }
   ],
   "source": [
    "books.yearOfPublication.dtype"
   ]
  },
  {
   "cell_type": "markdown",
   "metadata": {},
   "source": [
    "# Users part"
   ]
  },
  {
   "cell_type": "code",
   "execution_count": 17,
   "metadata": {
    "scrolled": true
   },
   "outputs": [
    {
     "data": {
      "text/html": [
       "<div>\n",
       "<style scoped>\n",
       "    .dataframe tbody tr th:only-of-type {\n",
       "        vertical-align: middle;\n",
       "    }\n",
       "\n",
       "    .dataframe tbody tr th {\n",
       "        vertical-align: top;\n",
       "    }\n",
       "\n",
       "    .dataframe thead th {\n",
       "        text-align: right;\n",
       "    }\n",
       "</style>\n",
       "<table border=\"1\" class=\"dataframe\">\n",
       "  <thead>\n",
       "    <tr style=\"text-align: right;\">\n",
       "      <th></th>\n",
       "      <th>userID</th>\n",
       "      <th>location</th>\n",
       "      <th>age</th>\n",
       "    </tr>\n",
       "  </thead>\n",
       "  <tbody>\n",
       "    <tr>\n",
       "      <th>0</th>\n",
       "      <td>1</td>\n",
       "      <td>nyc, new york, usa</td>\n",
       "      <td>NaN</td>\n",
       "    </tr>\n",
       "    <tr>\n",
       "      <th>1</th>\n",
       "      <td>2</td>\n",
       "      <td>stockton, california, usa</td>\n",
       "      <td>18.0</td>\n",
       "    </tr>\n",
       "    <tr>\n",
       "      <th>2</th>\n",
       "      <td>3</td>\n",
       "      <td>moscow, yukon territory, russia</td>\n",
       "      <td>NaN</td>\n",
       "    </tr>\n",
       "    <tr>\n",
       "      <th>3</th>\n",
       "      <td>4</td>\n",
       "      <td>porto, v.n.gaia, portugal</td>\n",
       "      <td>17.0</td>\n",
       "    </tr>\n",
       "    <tr>\n",
       "      <th>4</th>\n",
       "      <td>5</td>\n",
       "      <td>farnborough, hants, united kingdom</td>\n",
       "      <td>NaN</td>\n",
       "    </tr>\n",
       "  </tbody>\n",
       "</table>\n",
       "</div>"
      ],
      "text/plain": [
       "   userID                            location   age\n",
       "0  1       nyc, new york, usa                 NaN  \n",
       "1  2       stockton, california, usa           18.0\n",
       "2  3       moscow, yukon territory, russia    NaN  \n",
       "3  4       porto, v.n.gaia, portugal           17.0\n",
       "4  5       farnborough, hants, united kingdom NaN  "
      ]
     },
     "execution_count": 17,
     "metadata": {},
     "output_type": "execute_result"
    }
   ],
   "source": [
    "users.head()"
   ]
  },
  {
   "cell_type": "markdown",
   "metadata": {},
   "source": [
    "1. Checking the % of users location that is NA"
   ]
  },
  {
   "cell_type": "code",
   "execution_count": 18,
   "metadata": {},
   "outputs": [
    {
     "data": {
      "text/plain": [
       "0.0"
      ]
     },
     "execution_count": 18,
     "metadata": {},
     "output_type": "execute_result"
    }
   ],
   "source": [
    "users.loc[users.location.isna()].shape[0] / users.shape[0] *100"
   ]
  },
  {
   "cell_type": "markdown",
   "metadata": {},
   "source": [
    "# Ratings part"
   ]
  },
  {
   "cell_type": "markdown",
   "metadata": {},
   "source": [
    "1. Checking how many books in Rating dataframe is present in Books dataframe."
   ]
  },
  {
   "cell_type": "code",
   "execution_count": 19,
   "metadata": {},
   "outputs": [
    {
     "data": {
      "text/plain": [
       "1031136"
      ]
     },
     "execution_count": 19,
     "metadata": {},
     "output_type": "execute_result"
    }
   ],
   "source": [
    "new_ratings = ratings[ratings.ISBN.isin(books.ISBN)]\n",
    "new_ratings.shape[0]"
   ]
  },
  {
   "cell_type": "markdown",
   "metadata": {},
   "source": [
    "2. creating 'rating_explicit' where the books from ratings dataframe which are rated atleast once, and 'rating_implicit' where books are not rated even once."
   ]
  },
  {
   "cell_type": "code",
   "execution_count": 20,
   "metadata": {},
   "outputs": [],
   "source": [
    "ratings_explicit = new_ratings[new_ratings.bookRating != 0]\n",
    "ratings_implicit = new_ratings[new_ratings.bookRating == 0]"
   ]
  },
  {
   "cell_type": "code",
   "execution_count": 21,
   "metadata": {},
   "outputs": [
    {
     "data": {
      "text/plain": [
       "array([ 5,  3,  6,  7,  9,  8, 10,  1,  4,  2], dtype=int64)"
      ]
     },
     "execution_count": 21,
     "metadata": {},
     "output_type": "execute_result"
    }
   ],
   "source": [
    "ratings_explicit.bookRating.unique()"
   ]
  },
  {
   "cell_type": "code",
   "execution_count": 22,
   "metadata": {
    "scrolled": true
   },
   "outputs": [
    {
     "data": {
      "text/html": [
       "<div>\n",
       "<style scoped>\n",
       "    .dataframe tbody tr th:only-of-type {\n",
       "        vertical-align: middle;\n",
       "    }\n",
       "\n",
       "    .dataframe tbody tr th {\n",
       "        vertical-align: top;\n",
       "    }\n",
       "\n",
       "    .dataframe thead th {\n",
       "        text-align: right;\n",
       "    }\n",
       "</style>\n",
       "<table border=\"1\" class=\"dataframe\">\n",
       "  <thead>\n",
       "    <tr style=\"text-align: right;\">\n",
       "      <th></th>\n",
       "      <th>userID</th>\n",
       "      <th>ISBN</th>\n",
       "      <th>bookRating</th>\n",
       "    </tr>\n",
       "  </thead>\n",
       "  <tbody>\n",
       "    <tr>\n",
       "      <th>1</th>\n",
       "      <td>276726</td>\n",
       "      <td>0155061224</td>\n",
       "      <td>5</td>\n",
       "    </tr>\n",
       "    <tr>\n",
       "      <th>3</th>\n",
       "      <td>276729</td>\n",
       "      <td>052165615X</td>\n",
       "      <td>3</td>\n",
       "    </tr>\n",
       "    <tr>\n",
       "      <th>4</th>\n",
       "      <td>276729</td>\n",
       "      <td>0521795028</td>\n",
       "      <td>6</td>\n",
       "    </tr>\n",
       "    <tr>\n",
       "      <th>8</th>\n",
       "      <td>276744</td>\n",
       "      <td>038550120X</td>\n",
       "      <td>7</td>\n",
       "    </tr>\n",
       "    <tr>\n",
       "      <th>16</th>\n",
       "      <td>276747</td>\n",
       "      <td>0060517794</td>\n",
       "      <td>9</td>\n",
       "    </tr>\n",
       "  </tbody>\n",
       "</table>\n",
       "</div>"
      ],
      "text/plain": [
       "    userID        ISBN  bookRating\n",
       "1   276726  0155061224  5         \n",
       "3   276729  052165615X  3         \n",
       "4   276729  0521795028  6         \n",
       "8   276744  038550120X  7         \n",
       "16  276747  0060517794  9         "
      ]
     },
     "execution_count": 22,
     "metadata": {},
     "output_type": "execute_result"
    }
   ],
   "source": [
    "ratings_explicit.head()"
   ]
  },
  {
   "cell_type": "markdown",
   "metadata": {},
   "source": [
    "3. 'isbn_count' for counting the no. of books that are rated 2 times and more"
   ]
  },
  {
   "cell_type": "code",
   "execution_count": 23,
   "metadata": {},
   "outputs": [
    {
     "data": {
      "text/plain": [
       "(50423,)"
      ]
     },
     "execution_count": 23,
     "metadata": {},
     "output_type": "execute_result"
    }
   ],
   "source": [
    "isbn_count = ratings_explicit.ISBN.value_counts()\n",
    "isbn_count[isbn_count>=2].index.shape\n"
   ]
  },
  {
   "cell_type": "markdown",
   "metadata": {},
   "source": [
    "4. 'users_exp_ratings' for the user that has rated books included in ratings_explicit that contains books that have been rated atleast once and vise versa for 'users_imp_ratings'"
   ]
  },
  {
   "cell_type": "code",
   "execution_count": 24,
   "metadata": {},
   "outputs": [
    {
     "name": "stdout",
     "output_type": "stream",
     "text": [
      "68091 52451\n"
     ]
    }
   ],
   "source": [
    "users_exp_ratings = users[users.userID.isin(ratings_explicit.userID)]\n",
    "users_imp_ratings = users[users.userID.isin(ratings_implicit.userID)]\n",
    "print(users_exp_ratings.shape[0], users_imp_ratings.shape[0])"
   ]
  },
  {
   "cell_type": "markdown",
   "metadata": {},
   "source": [
    "5.This four line of code creates the ratings_explicit dataframe where it includes all the users that has rated atleast 100 books and books that have been rated atleast 100 times"
   ]
  },
  {
   "cell_type": "code",
   "execution_count": 25,
   "metadata": {},
   "outputs": [],
   "source": [
    "counts1 = ratings_explicit['userID'].value_counts()\n",
    "ratings_explicit = ratings_explicit[ratings_explicit['userID'].isin(counts1[counts1>=100].index)]\n",
    "counts = ratings_explicit['bookRating'].value_counts()\n",
    "ratings_explicit = ratings_explicit[ratings_explicit['bookRating'].isin(counts[counts>=100].index)]"
   ]
  },
  {
   "cell_type": "markdown",
   "metadata": {},
   "source": [
    "6. This code creates a pivot table which is basically a dataframe that has user as index and books as columns and the corresponding values are the ratings.\n",
    "Pivot table is the last thing we need to create to make our dataset ready for machine learning algorithm"
   ]
  },
  {
   "cell_type": "code",
   "execution_count": 26,
   "metadata": {
    "scrolled": true
   },
   "outputs": [
    {
     "data": {
      "text/html": [
       "<div>\n",
       "<style scoped>\n",
       "    .dataframe tbody tr th:only-of-type {\n",
       "        vertical-align: middle;\n",
       "    }\n",
       "\n",
       "    .dataframe tbody tr th {\n",
       "        vertical-align: top;\n",
       "    }\n",
       "\n",
       "    .dataframe thead th {\n",
       "        text-align: right;\n",
       "    }\n",
       "</style>\n",
       "<table border=\"1\" class=\"dataframe\">\n",
       "  <thead>\n",
       "    <tr style=\"text-align: right;\">\n",
       "      <th>ISBN</th>\n",
       "      <th>0000913154</th>\n",
       "      <th>0001046438</th>\n",
       "      <th>000104687X</th>\n",
       "      <th>0001047213</th>\n",
       "      <th>0001047973</th>\n",
       "      <th>000104799X</th>\n",
       "      <th>0001048082</th>\n",
       "      <th>0001053736</th>\n",
       "      <th>0001053744</th>\n",
       "      <th>0001055607</th>\n",
       "      <th>...</th>\n",
       "      <th>B000092Q0A</th>\n",
       "      <th>B00009EF82</th>\n",
       "      <th>B00009NDAN</th>\n",
       "      <th>B0000DYXID</th>\n",
       "      <th>B0000T6KHI</th>\n",
       "      <th>B0000VZEJQ</th>\n",
       "      <th>B0000X8HIE</th>\n",
       "      <th>B00013AX9E</th>\n",
       "      <th>B0001I1KOG</th>\n",
       "      <th>B000234N3A</th>\n",
       "    </tr>\n",
       "    <tr>\n",
       "      <th>userID</th>\n",
       "      <th></th>\n",
       "      <th></th>\n",
       "      <th></th>\n",
       "      <th></th>\n",
       "      <th></th>\n",
       "      <th></th>\n",
       "      <th></th>\n",
       "      <th></th>\n",
       "      <th></th>\n",
       "      <th></th>\n",
       "      <th></th>\n",
       "      <th></th>\n",
       "      <th></th>\n",
       "      <th></th>\n",
       "      <th></th>\n",
       "      <th></th>\n",
       "      <th></th>\n",
       "      <th></th>\n",
       "      <th></th>\n",
       "      <th></th>\n",
       "      <th></th>\n",
       "    </tr>\n",
       "  </thead>\n",
       "  <tbody>\n",
       "    <tr>\n",
       "      <th>2033</th>\n",
       "      <td>NaN</td>\n",
       "      <td>NaN</td>\n",
       "      <td>NaN</td>\n",
       "      <td>NaN</td>\n",
       "      <td>NaN</td>\n",
       "      <td>NaN</td>\n",
       "      <td>NaN</td>\n",
       "      <td>NaN</td>\n",
       "      <td>NaN</td>\n",
       "      <td>NaN</td>\n",
       "      <td>...</td>\n",
       "      <td>NaN</td>\n",
       "      <td>NaN</td>\n",
       "      <td>NaN</td>\n",
       "      <td>NaN</td>\n",
       "      <td>NaN</td>\n",
       "      <td>NaN</td>\n",
       "      <td>NaN</td>\n",
       "      <td>NaN</td>\n",
       "      <td>NaN</td>\n",
       "      <td>NaN</td>\n",
       "    </tr>\n",
       "    <tr>\n",
       "      <th>2110</th>\n",
       "      <td>NaN</td>\n",
       "      <td>NaN</td>\n",
       "      <td>NaN</td>\n",
       "      <td>NaN</td>\n",
       "      <td>NaN</td>\n",
       "      <td>NaN</td>\n",
       "      <td>NaN</td>\n",
       "      <td>NaN</td>\n",
       "      <td>NaN</td>\n",
       "      <td>NaN</td>\n",
       "      <td>...</td>\n",
       "      <td>NaN</td>\n",
       "      <td>NaN</td>\n",
       "      <td>NaN</td>\n",
       "      <td>NaN</td>\n",
       "      <td>NaN</td>\n",
       "      <td>NaN</td>\n",
       "      <td>NaN</td>\n",
       "      <td>NaN</td>\n",
       "      <td>NaN</td>\n",
       "      <td>NaN</td>\n",
       "    </tr>\n",
       "    <tr>\n",
       "      <th>2276</th>\n",
       "      <td>NaN</td>\n",
       "      <td>NaN</td>\n",
       "      <td>NaN</td>\n",
       "      <td>NaN</td>\n",
       "      <td>NaN</td>\n",
       "      <td>NaN</td>\n",
       "      <td>NaN</td>\n",
       "      <td>NaN</td>\n",
       "      <td>NaN</td>\n",
       "      <td>NaN</td>\n",
       "      <td>...</td>\n",
       "      <td>NaN</td>\n",
       "      <td>NaN</td>\n",
       "      <td>NaN</td>\n",
       "      <td>NaN</td>\n",
       "      <td>NaN</td>\n",
       "      <td>NaN</td>\n",
       "      <td>NaN</td>\n",
       "      <td>NaN</td>\n",
       "      <td>NaN</td>\n",
       "      <td>NaN</td>\n",
       "    </tr>\n",
       "    <tr>\n",
       "      <th>4017</th>\n",
       "      <td>NaN</td>\n",
       "      <td>NaN</td>\n",
       "      <td>NaN</td>\n",
       "      <td>NaN</td>\n",
       "      <td>NaN</td>\n",
       "      <td>NaN</td>\n",
       "      <td>NaN</td>\n",
       "      <td>NaN</td>\n",
       "      <td>NaN</td>\n",
       "      <td>NaN</td>\n",
       "      <td>...</td>\n",
       "      <td>NaN</td>\n",
       "      <td>NaN</td>\n",
       "      <td>NaN</td>\n",
       "      <td>NaN</td>\n",
       "      <td>NaN</td>\n",
       "      <td>NaN</td>\n",
       "      <td>NaN</td>\n",
       "      <td>NaN</td>\n",
       "      <td>NaN</td>\n",
       "      <td>NaN</td>\n",
       "    </tr>\n",
       "    <tr>\n",
       "      <th>4385</th>\n",
       "      <td>NaN</td>\n",
       "      <td>NaN</td>\n",
       "      <td>NaN</td>\n",
       "      <td>NaN</td>\n",
       "      <td>NaN</td>\n",
       "      <td>NaN</td>\n",
       "      <td>NaN</td>\n",
       "      <td>NaN</td>\n",
       "      <td>NaN</td>\n",
       "      <td>NaN</td>\n",
       "      <td>...</td>\n",
       "      <td>NaN</td>\n",
       "      <td>NaN</td>\n",
       "      <td>NaN</td>\n",
       "      <td>NaN</td>\n",
       "      <td>NaN</td>\n",
       "      <td>NaN</td>\n",
       "      <td>NaN</td>\n",
       "      <td>NaN</td>\n",
       "      <td>NaN</td>\n",
       "      <td>NaN</td>\n",
       "    </tr>\n",
       "  </tbody>\n",
       "</table>\n",
       "<p>5 rows × 66574 columns</p>\n",
       "</div>"
      ],
      "text/plain": [
       "ISBN    0000913154  0001046438  000104687X  0001047213  0001047973  \\\n",
       "userID                                                               \n",
       "2033   NaN         NaN         NaN         NaN         NaN           \n",
       "2110   NaN         NaN         NaN         NaN         NaN           \n",
       "2276   NaN         NaN         NaN         NaN         NaN           \n",
       "4017   NaN         NaN         NaN         NaN         NaN           \n",
       "4385   NaN         NaN         NaN         NaN         NaN           \n",
       "\n",
       "ISBN    000104799X  0001048082  0001053736  0001053744  0001055607  ...  \\\n",
       "userID                                                              ...   \n",
       "2033   NaN         NaN         NaN         NaN         NaN          ...   \n",
       "2110   NaN         NaN         NaN         NaN         NaN          ...   \n",
       "2276   NaN         NaN         NaN         NaN         NaN          ...   \n",
       "4017   NaN         NaN         NaN         NaN         NaN          ...   \n",
       "4385   NaN         NaN         NaN         NaN         NaN          ...   \n",
       "\n",
       "ISBN    B000092Q0A  B00009EF82  B00009NDAN  B0000DYXID  B0000T6KHI  \\\n",
       "userID                                                               \n",
       "2033   NaN         NaN         NaN         NaN         NaN           \n",
       "2110   NaN         NaN         NaN         NaN         NaN           \n",
       "2276   NaN         NaN         NaN         NaN         NaN           \n",
       "4017   NaN         NaN         NaN         NaN         NaN           \n",
       "4385   NaN         NaN         NaN         NaN         NaN           \n",
       "\n",
       "ISBN    B0000VZEJQ  B0000X8HIE  B00013AX9E  B0001I1KOG  B000234N3A  \n",
       "userID                                                              \n",
       "2033   NaN         NaN         NaN         NaN         NaN          \n",
       "2110   NaN         NaN         NaN         NaN         NaN          \n",
       "2276   NaN         NaN         NaN         NaN         NaN          \n",
       "4017   NaN         NaN         NaN         NaN         NaN          \n",
       "4385   NaN         NaN         NaN         NaN         NaN          \n",
       "\n",
       "[5 rows x 66574 columns]"
      ]
     },
     "execution_count": 26,
     "metadata": {},
     "output_type": "execute_result"
    }
   ],
   "source": [
    "test_rating = ratings_explicit.pivot(index='userID', columns='ISBN', values='bookRating')\n",
    "test_rating.head()"
   ]
  },
  {
   "cell_type": "markdown",
   "metadata": {},
   "source": [
    "7. This code further filters the pivot table we created and removes all the books that has been rated less than 3 times"
   ]
  },
  {
   "cell_type": "code",
   "execution_count": 253,
   "metadata": {
    "scrolled": false
   },
   "outputs": [],
   "source": [
    "test_rating= test_rating.dropna(thresh = 3, axis =1).fillna(0)"
   ]
  },
  {
   "cell_type": "code",
   "execution_count": 254,
   "metadata": {
    "scrolled": true
   },
   "outputs": [
    {
     "data": {
      "text/html": [
       "<div>\n",
       "<style scoped>\n",
       "    .dataframe tbody tr th:only-of-type {\n",
       "        vertical-align: middle;\n",
       "    }\n",
       "\n",
       "    .dataframe tbody tr th {\n",
       "        vertical-align: top;\n",
       "    }\n",
       "\n",
       "    .dataframe thead th {\n",
       "        text-align: right;\n",
       "    }\n",
       "</style>\n",
       "<table border=\"1\" class=\"dataframe\">\n",
       "  <thead>\n",
       "    <tr style=\"text-align: right;\">\n",
       "      <th>ISBN</th>\n",
       "      <th>000649840X</th>\n",
       "      <th>0006546684</th>\n",
       "      <th>0006547834</th>\n",
       "      <th>0006550789</th>\n",
       "      <th>0006742939</th>\n",
       "      <th>0007154615</th>\n",
       "      <th>0020125305</th>\n",
       "      <th>0020198906</th>\n",
       "      <th>0020199600</th>\n",
       "      <th>002026478X</th>\n",
       "      <th>...</th>\n",
       "      <th>3404148665</th>\n",
       "      <th>3442431875</th>\n",
       "      <th>3522128001</th>\n",
       "      <th>8251800811</th>\n",
       "      <th>8401328942</th>\n",
       "      <th>842046435X</th>\n",
       "      <th>8420482013</th>\n",
       "      <th>8423310353</th>\n",
       "      <th>8478886451</th>\n",
       "      <th>950491036X</th>\n",
       "    </tr>\n",
       "    <tr>\n",
       "      <th>userID</th>\n",
       "      <th></th>\n",
       "      <th></th>\n",
       "      <th></th>\n",
       "      <th></th>\n",
       "      <th></th>\n",
       "      <th></th>\n",
       "      <th></th>\n",
       "      <th></th>\n",
       "      <th></th>\n",
       "      <th></th>\n",
       "      <th></th>\n",
       "      <th></th>\n",
       "      <th></th>\n",
       "      <th></th>\n",
       "      <th></th>\n",
       "      <th></th>\n",
       "      <th></th>\n",
       "      <th></th>\n",
       "      <th></th>\n",
       "      <th></th>\n",
       "      <th></th>\n",
       "    </tr>\n",
       "  </thead>\n",
       "  <tbody>\n",
       "    <tr>\n",
       "      <th>2033</th>\n",
       "      <td>0.0</td>\n",
       "      <td>0.0</td>\n",
       "      <td>0.0</td>\n",
       "      <td>0.0</td>\n",
       "      <td>0.0</td>\n",
       "      <td>0.0</td>\n",
       "      <td>0.0</td>\n",
       "      <td>0.0</td>\n",
       "      <td>0.0</td>\n",
       "      <td>0.0</td>\n",
       "      <td>...</td>\n",
       "      <td>0.0</td>\n",
       "      <td>0.0</td>\n",
       "      <td>0.0</td>\n",
       "      <td>0.0</td>\n",
       "      <td>0.0</td>\n",
       "      <td>0.0</td>\n",
       "      <td>0.0</td>\n",
       "      <td>0.0</td>\n",
       "      <td>0.0</td>\n",
       "      <td>0.0</td>\n",
       "    </tr>\n",
       "    <tr>\n",
       "      <th>2110</th>\n",
       "      <td>0.0</td>\n",
       "      <td>0.0</td>\n",
       "      <td>0.0</td>\n",
       "      <td>0.0</td>\n",
       "      <td>0.0</td>\n",
       "      <td>0.0</td>\n",
       "      <td>0.0</td>\n",
       "      <td>0.0</td>\n",
       "      <td>0.0</td>\n",
       "      <td>0.0</td>\n",
       "      <td>...</td>\n",
       "      <td>0.0</td>\n",
       "      <td>0.0</td>\n",
       "      <td>0.0</td>\n",
       "      <td>0.0</td>\n",
       "      <td>0.0</td>\n",
       "      <td>0.0</td>\n",
       "      <td>0.0</td>\n",
       "      <td>0.0</td>\n",
       "      <td>0.0</td>\n",
       "      <td>0.0</td>\n",
       "    </tr>\n",
       "    <tr>\n",
       "      <th>2276</th>\n",
       "      <td>0.0</td>\n",
       "      <td>0.0</td>\n",
       "      <td>0.0</td>\n",
       "      <td>0.0</td>\n",
       "      <td>0.0</td>\n",
       "      <td>0.0</td>\n",
       "      <td>0.0</td>\n",
       "      <td>0.0</td>\n",
       "      <td>0.0</td>\n",
       "      <td>0.0</td>\n",
       "      <td>...</td>\n",
       "      <td>0.0</td>\n",
       "      <td>0.0</td>\n",
       "      <td>0.0</td>\n",
       "      <td>0.0</td>\n",
       "      <td>0.0</td>\n",
       "      <td>0.0</td>\n",
       "      <td>0.0</td>\n",
       "      <td>0.0</td>\n",
       "      <td>0.0</td>\n",
       "      <td>0.0</td>\n",
       "    </tr>\n",
       "    <tr>\n",
       "      <th>4017</th>\n",
       "      <td>0.0</td>\n",
       "      <td>0.0</td>\n",
       "      <td>0.0</td>\n",
       "      <td>0.0</td>\n",
       "      <td>0.0</td>\n",
       "      <td>0.0</td>\n",
       "      <td>0.0</td>\n",
       "      <td>0.0</td>\n",
       "      <td>0.0</td>\n",
       "      <td>0.0</td>\n",
       "      <td>...</td>\n",
       "      <td>0.0</td>\n",
       "      <td>0.0</td>\n",
       "      <td>0.0</td>\n",
       "      <td>0.0</td>\n",
       "      <td>0.0</td>\n",
       "      <td>0.0</td>\n",
       "      <td>0.0</td>\n",
       "      <td>0.0</td>\n",
       "      <td>0.0</td>\n",
       "      <td>0.0</td>\n",
       "    </tr>\n",
       "    <tr>\n",
       "      <th>4385</th>\n",
       "      <td>0.0</td>\n",
       "      <td>0.0</td>\n",
       "      <td>0.0</td>\n",
       "      <td>0.0</td>\n",
       "      <td>0.0</td>\n",
       "      <td>0.0</td>\n",
       "      <td>0.0</td>\n",
       "      <td>0.0</td>\n",
       "      <td>0.0</td>\n",
       "      <td>0.0</td>\n",
       "      <td>...</td>\n",
       "      <td>0.0</td>\n",
       "      <td>0.0</td>\n",
       "      <td>0.0</td>\n",
       "      <td>0.0</td>\n",
       "      <td>0.0</td>\n",
       "      <td>0.0</td>\n",
       "      <td>0.0</td>\n",
       "      <td>0.0</td>\n",
       "      <td>0.0</td>\n",
       "      <td>0.0</td>\n",
       "    </tr>\n",
       "    <tr>\n",
       "      <th>...</th>\n",
       "      <td>...</td>\n",
       "      <td>...</td>\n",
       "      <td>...</td>\n",
       "      <td>...</td>\n",
       "      <td>...</td>\n",
       "      <td>...</td>\n",
       "      <td>...</td>\n",
       "      <td>...</td>\n",
       "      <td>...</td>\n",
       "      <td>...</td>\n",
       "      <td>...</td>\n",
       "      <td>...</td>\n",
       "      <td>...</td>\n",
       "      <td>...</td>\n",
       "      <td>...</td>\n",
       "      <td>...</td>\n",
       "      <td>...</td>\n",
       "      <td>...</td>\n",
       "      <td>...</td>\n",
       "      <td>...</td>\n",
       "      <td>...</td>\n",
       "    </tr>\n",
       "    <tr>\n",
       "      <th>274061</th>\n",
       "      <td>0.0</td>\n",
       "      <td>0.0</td>\n",
       "      <td>0.0</td>\n",
       "      <td>0.0</td>\n",
       "      <td>0.0</td>\n",
       "      <td>0.0</td>\n",
       "      <td>0.0</td>\n",
       "      <td>0.0</td>\n",
       "      <td>0.0</td>\n",
       "      <td>0.0</td>\n",
       "      <td>...</td>\n",
       "      <td>0.0</td>\n",
       "      <td>0.0</td>\n",
       "      <td>0.0</td>\n",
       "      <td>0.0</td>\n",
       "      <td>0.0</td>\n",
       "      <td>0.0</td>\n",
       "      <td>0.0</td>\n",
       "      <td>0.0</td>\n",
       "      <td>0.0</td>\n",
       "      <td>0.0</td>\n",
       "    </tr>\n",
       "    <tr>\n",
       "      <th>274301</th>\n",
       "      <td>0.0</td>\n",
       "      <td>0.0</td>\n",
       "      <td>0.0</td>\n",
       "      <td>0.0</td>\n",
       "      <td>0.0</td>\n",
       "      <td>0.0</td>\n",
       "      <td>0.0</td>\n",
       "      <td>0.0</td>\n",
       "      <td>0.0</td>\n",
       "      <td>0.0</td>\n",
       "      <td>...</td>\n",
       "      <td>0.0</td>\n",
       "      <td>0.0</td>\n",
       "      <td>0.0</td>\n",
       "      <td>0.0</td>\n",
       "      <td>0.0</td>\n",
       "      <td>0.0</td>\n",
       "      <td>0.0</td>\n",
       "      <td>0.0</td>\n",
       "      <td>0.0</td>\n",
       "      <td>0.0</td>\n",
       "    </tr>\n",
       "    <tr>\n",
       "      <th>275970</th>\n",
       "      <td>0.0</td>\n",
       "      <td>0.0</td>\n",
       "      <td>0.0</td>\n",
       "      <td>0.0</td>\n",
       "      <td>0.0</td>\n",
       "      <td>0.0</td>\n",
       "      <td>0.0</td>\n",
       "      <td>0.0</td>\n",
       "      <td>0.0</td>\n",
       "      <td>0.0</td>\n",
       "      <td>...</td>\n",
       "      <td>0.0</td>\n",
       "      <td>0.0</td>\n",
       "      <td>0.0</td>\n",
       "      <td>0.0</td>\n",
       "      <td>0.0</td>\n",
       "      <td>0.0</td>\n",
       "      <td>0.0</td>\n",
       "      <td>0.0</td>\n",
       "      <td>0.0</td>\n",
       "      <td>0.0</td>\n",
       "    </tr>\n",
       "    <tr>\n",
       "      <th>277427</th>\n",
       "      <td>0.0</td>\n",
       "      <td>0.0</td>\n",
       "      <td>0.0</td>\n",
       "      <td>0.0</td>\n",
       "      <td>0.0</td>\n",
       "      <td>0.0</td>\n",
       "      <td>0.0</td>\n",
       "      <td>0.0</td>\n",
       "      <td>0.0</td>\n",
       "      <td>0.0</td>\n",
       "      <td>...</td>\n",
       "      <td>0.0</td>\n",
       "      <td>0.0</td>\n",
       "      <td>0.0</td>\n",
       "      <td>7.0</td>\n",
       "      <td>0.0</td>\n",
       "      <td>0.0</td>\n",
       "      <td>0.0</td>\n",
       "      <td>0.0</td>\n",
       "      <td>0.0</td>\n",
       "      <td>0.0</td>\n",
       "    </tr>\n",
       "    <tr>\n",
       "      <th>278418</th>\n",
       "      <td>0.0</td>\n",
       "      <td>0.0</td>\n",
       "      <td>0.0</td>\n",
       "      <td>0.0</td>\n",
       "      <td>0.0</td>\n",
       "      <td>0.0</td>\n",
       "      <td>0.0</td>\n",
       "      <td>0.0</td>\n",
       "      <td>0.0</td>\n",
       "      <td>0.0</td>\n",
       "      <td>...</td>\n",
       "      <td>0.0</td>\n",
       "      <td>0.0</td>\n",
       "      <td>0.0</td>\n",
       "      <td>0.0</td>\n",
       "      <td>0.0</td>\n",
       "      <td>0.0</td>\n",
       "      <td>0.0</td>\n",
       "      <td>0.0</td>\n",
       "      <td>0.0</td>\n",
       "      <td>0.0</td>\n",
       "    </tr>\n",
       "  </tbody>\n",
       "</table>\n",
       "<p>449 rows × 6668 columns</p>\n",
       "</div>"
      ],
      "text/plain": [
       "ISBN    000649840X  0006546684  0006547834  0006550789  0006742939  \\\n",
       "userID                                                               \n",
       "2033    0.0         0.0         0.0         0.0         0.0          \n",
       "2110    0.0         0.0         0.0         0.0         0.0          \n",
       "2276    0.0         0.0         0.0         0.0         0.0          \n",
       "4017    0.0         0.0         0.0         0.0         0.0          \n",
       "4385    0.0         0.0         0.0         0.0         0.0          \n",
       "...     ...         ...         ...         ...         ...          \n",
       "274061  0.0         0.0         0.0         0.0         0.0          \n",
       "274301  0.0         0.0         0.0         0.0         0.0          \n",
       "275970  0.0         0.0         0.0         0.0         0.0          \n",
       "277427  0.0         0.0         0.0         0.0         0.0          \n",
       "278418  0.0         0.0         0.0         0.0         0.0          \n",
       "\n",
       "ISBN    0007154615  0020125305  0020198906  0020199600  002026478X  ...  \\\n",
       "userID                                                              ...   \n",
       "2033    0.0         0.0         0.0         0.0         0.0         ...   \n",
       "2110    0.0         0.0         0.0         0.0         0.0         ...   \n",
       "2276    0.0         0.0         0.0         0.0         0.0         ...   \n",
       "4017    0.0         0.0         0.0         0.0         0.0         ...   \n",
       "4385    0.0         0.0         0.0         0.0         0.0         ...   \n",
       "...     ...         ...         ...         ...         ...         ...   \n",
       "274061  0.0         0.0         0.0         0.0         0.0         ...   \n",
       "274301  0.0         0.0         0.0         0.0         0.0         ...   \n",
       "275970  0.0         0.0         0.0         0.0         0.0         ...   \n",
       "277427  0.0         0.0         0.0         0.0         0.0         ...   \n",
       "278418  0.0         0.0         0.0         0.0         0.0         ...   \n",
       "\n",
       "ISBN    3404148665  3442431875  3522128001  8251800811  8401328942  \\\n",
       "userID                                                               \n",
       "2033    0.0         0.0         0.0         0.0         0.0          \n",
       "2110    0.0         0.0         0.0         0.0         0.0          \n",
       "2276    0.0         0.0         0.0         0.0         0.0          \n",
       "4017    0.0         0.0         0.0         0.0         0.0          \n",
       "4385    0.0         0.0         0.0         0.0         0.0          \n",
       "...     ...         ...         ...         ...         ...          \n",
       "274061  0.0         0.0         0.0         0.0         0.0          \n",
       "274301  0.0         0.0         0.0         0.0         0.0          \n",
       "275970  0.0         0.0         0.0         0.0         0.0          \n",
       "277427  0.0         0.0         0.0         7.0         0.0          \n",
       "278418  0.0         0.0         0.0         0.0         0.0          \n",
       "\n",
       "ISBN    842046435X  8420482013  8423310353  8478886451  950491036X  \n",
       "userID                                                              \n",
       "2033    0.0         0.0         0.0         0.0         0.0         \n",
       "2110    0.0         0.0         0.0         0.0         0.0         \n",
       "2276    0.0         0.0         0.0         0.0         0.0         \n",
       "4017    0.0         0.0         0.0         0.0         0.0         \n",
       "4385    0.0         0.0         0.0         0.0         0.0         \n",
       "...     ...         ...         ...         ...         ...         \n",
       "274061  0.0         0.0         0.0         0.0         0.0         \n",
       "274301  0.0         0.0         0.0         0.0         0.0         \n",
       "275970  0.0         0.0         0.0         0.0         0.0         \n",
       "277427  0.0         0.0         0.0         0.0         0.0         \n",
       "278418  0.0         0.0         0.0         0.0         0.0         \n",
       "\n",
       "[449 rows x 6668 columns]"
      ]
     },
     "execution_count": 254,
     "metadata": {},
     "output_type": "execute_result"
    }
   ],
   "source": [
    "test_rating"
   ]
  },
  {
   "cell_type": "markdown",
   "metadata": {},
   "source": [
    "# Finished Cleaning and Preparing data. Now starting tha ML algorithm"
   ]
  },
  {
   "cell_type": "markdown",
   "metadata": {},
   "source": [
    "1. Creating a Similarity Matrix with the help of pandas inbuilt corr method that creates the pearson correlation for each items/books from which we can determine the similarity between each items"
   ]
  },
  {
   "cell_type": "code",
   "execution_count": 255,
   "metadata": {
    "scrolled": true
   },
   "outputs": [
    {
     "data": {
      "text/html": [
       "<div>\n",
       "<style scoped>\n",
       "    .dataframe tbody tr th:only-of-type {\n",
       "        vertical-align: middle;\n",
       "    }\n",
       "\n",
       "    .dataframe tbody tr th {\n",
       "        vertical-align: top;\n",
       "    }\n",
       "\n",
       "    .dataframe thead th {\n",
       "        text-align: right;\n",
       "    }\n",
       "</style>\n",
       "<table border=\"1\" class=\"dataframe\">\n",
       "  <thead>\n",
       "    <tr style=\"text-align: right;\">\n",
       "      <th>ISBN</th>\n",
       "      <th>000649840X</th>\n",
       "      <th>0006546684</th>\n",
       "      <th>0006547834</th>\n",
       "      <th>0006550789</th>\n",
       "      <th>0006742939</th>\n",
       "      <th>0007154615</th>\n",
       "      <th>0020125305</th>\n",
       "      <th>0020198906</th>\n",
       "      <th>0020199600</th>\n",
       "      <th>002026478X</th>\n",
       "      <th>...</th>\n",
       "      <th>3404148665</th>\n",
       "      <th>3442431875</th>\n",
       "      <th>3522128001</th>\n",
       "      <th>8251800811</th>\n",
       "      <th>8401328942</th>\n",
       "      <th>842046435X</th>\n",
       "      <th>8420482013</th>\n",
       "      <th>8423310353</th>\n",
       "      <th>8478886451</th>\n",
       "      <th>950491036X</th>\n",
       "    </tr>\n",
       "    <tr>\n",
       "      <th>ISBN</th>\n",
       "      <th></th>\n",
       "      <th></th>\n",
       "      <th></th>\n",
       "      <th></th>\n",
       "      <th></th>\n",
       "      <th></th>\n",
       "      <th></th>\n",
       "      <th></th>\n",
       "      <th></th>\n",
       "      <th></th>\n",
       "      <th></th>\n",
       "      <th></th>\n",
       "      <th></th>\n",
       "      <th></th>\n",
       "      <th></th>\n",
       "      <th></th>\n",
       "      <th></th>\n",
       "      <th></th>\n",
       "      <th></th>\n",
       "      <th></th>\n",
       "      <th></th>\n",
       "    </tr>\n",
       "  </thead>\n",
       "  <tbody>\n",
       "    <tr>\n",
       "      <th>000649840X</th>\n",
       "      <td>1.000000</td>\n",
       "      <td>0.279243</td>\n",
       "      <td>0.193059</td>\n",
       "      <td>0.265604</td>\n",
       "      <td>-0.008523</td>\n",
       "      <td>0.210401</td>\n",
       "      <td>-0.011813</td>\n",
       "      <td>-0.010733</td>\n",
       "      <td>-0.008601</td>\n",
       "      <td>-0.008327</td>\n",
       "      <td>...</td>\n",
       "      <td>0.299423</td>\n",
       "      <td>0.241990</td>\n",
       "      <td>-0.009914</td>\n",
       "      <td>-0.008640</td>\n",
       "      <td>-0.008642</td>\n",
       "      <td>-0.008585</td>\n",
       "      <td>0.151191</td>\n",
       "      <td>0.248143</td>\n",
       "      <td>-0.008591</td>\n",
       "      <td>-0.008645</td>\n",
       "    </tr>\n",
       "    <tr>\n",
       "      <th>0006546684</th>\n",
       "      <td>0.279243</td>\n",
       "      <td>1.000000</td>\n",
       "      <td>0.228326</td>\n",
       "      <td>0.312945</td>\n",
       "      <td>-0.006623</td>\n",
       "      <td>0.249427</td>\n",
       "      <td>-0.009180</td>\n",
       "      <td>-0.008340</td>\n",
       "      <td>-0.006684</td>\n",
       "      <td>-0.006471</td>\n",
       "      <td>...</td>\n",
       "      <td>0.352367</td>\n",
       "      <td>0.285409</td>\n",
       "      <td>-0.007704</td>\n",
       "      <td>-0.006714</td>\n",
       "      <td>-0.006716</td>\n",
       "      <td>-0.006671</td>\n",
       "      <td>0.179987</td>\n",
       "      <td>0.292519</td>\n",
       "      <td>-0.006676</td>\n",
       "      <td>-0.006718</td>\n",
       "    </tr>\n",
       "    <tr>\n",
       "      <th>0006547834</th>\n",
       "      <td>0.193059</td>\n",
       "      <td>0.228326</td>\n",
       "      <td>1.000000</td>\n",
       "      <td>0.217197</td>\n",
       "      <td>-0.006491</td>\n",
       "      <td>0.172268</td>\n",
       "      <td>-0.008997</td>\n",
       "      <td>-0.008174</td>\n",
       "      <td>-0.006550</td>\n",
       "      <td>-0.006342</td>\n",
       "      <td>...</td>\n",
       "      <td>0.244792</td>\n",
       "      <td>0.197927</td>\n",
       "      <td>-0.007551</td>\n",
       "      <td>-0.006580</td>\n",
       "      <td>-0.006582</td>\n",
       "      <td>-0.006538</td>\n",
       "      <td>0.123895</td>\n",
       "      <td>0.202939</td>\n",
       "      <td>-0.006543</td>\n",
       "      <td>-0.006584</td>\n",
       "    </tr>\n",
       "    <tr>\n",
       "      <th>0006550789</th>\n",
       "      <td>0.265604</td>\n",
       "      <td>0.312945</td>\n",
       "      <td>0.217197</td>\n",
       "      <td>1.000000</td>\n",
       "      <td>-0.006609</td>\n",
       "      <td>0.237216</td>\n",
       "      <td>-0.009161</td>\n",
       "      <td>-0.008323</td>\n",
       "      <td>-0.006670</td>\n",
       "      <td>-0.006458</td>\n",
       "      <td>...</td>\n",
       "      <td>0.335348</td>\n",
       "      <td>0.271568</td>\n",
       "      <td>-0.007688</td>\n",
       "      <td>-0.006700</td>\n",
       "      <td>-0.006702</td>\n",
       "      <td>-0.006657</td>\n",
       "      <td>0.171109</td>\n",
       "      <td>0.278346</td>\n",
       "      <td>-0.006662</td>\n",
       "      <td>-0.006704</td>\n",
       "    </tr>\n",
       "    <tr>\n",
       "      <th>0006742939</th>\n",
       "      <td>-0.008523</td>\n",
       "      <td>-0.006623</td>\n",
       "      <td>-0.006491</td>\n",
       "      <td>-0.006609</td>\n",
       "      <td>1.000000</td>\n",
       "      <td>-0.008238</td>\n",
       "      <td>-0.009039</td>\n",
       "      <td>-0.008212</td>\n",
       "      <td>-0.006581</td>\n",
       "      <td>-0.006371</td>\n",
       "      <td>...</td>\n",
       "      <td>-0.006615</td>\n",
       "      <td>-0.006589</td>\n",
       "      <td>-0.007586</td>\n",
       "      <td>-0.006611</td>\n",
       "      <td>-0.006612</td>\n",
       "      <td>-0.006569</td>\n",
       "      <td>-0.007401</td>\n",
       "      <td>-0.006465</td>\n",
       "      <td>-0.006573</td>\n",
       "      <td>-0.006615</td>\n",
       "    </tr>\n",
       "    <tr>\n",
       "      <th>0007154615</th>\n",
       "      <td>0.210401</td>\n",
       "      <td>0.249427</td>\n",
       "      <td>0.172268</td>\n",
       "      <td>0.237216</td>\n",
       "      <td>-0.008238</td>\n",
       "      <td>1.000000</td>\n",
       "      <td>-0.011418</td>\n",
       "      <td>-0.010373</td>\n",
       "      <td>-0.008313</td>\n",
       "      <td>-0.008048</td>\n",
       "      <td>...</td>\n",
       "      <td>0.267497</td>\n",
       "      <td>0.216073</td>\n",
       "      <td>-0.009582</td>\n",
       "      <td>-0.008350</td>\n",
       "      <td>-0.008353</td>\n",
       "      <td>-0.008297</td>\n",
       "      <td>0.134694</td>\n",
       "      <td>0.221594</td>\n",
       "      <td>-0.008303</td>\n",
       "      <td>-0.008355</td>\n",
       "    </tr>\n",
       "    <tr>\n",
       "      <th>0020125305</th>\n",
       "      <td>-0.011813</td>\n",
       "      <td>-0.009180</td>\n",
       "      <td>-0.008997</td>\n",
       "      <td>-0.009161</td>\n",
       "      <td>-0.009039</td>\n",
       "      <td>-0.011418</td>\n",
       "      <td>1.000000</td>\n",
       "      <td>-0.011382</td>\n",
       "      <td>0.220225</td>\n",
       "      <td>-0.008831</td>\n",
       "      <td>...</td>\n",
       "      <td>-0.009168</td>\n",
       "      <td>-0.009132</td>\n",
       "      <td>-0.010514</td>\n",
       "      <td>-0.009162</td>\n",
       "      <td>-0.009165</td>\n",
       "      <td>-0.009104</td>\n",
       "      <td>-0.010259</td>\n",
       "      <td>-0.008961</td>\n",
       "      <td>-0.009111</td>\n",
       "      <td>-0.009168</td>\n",
       "    </tr>\n",
       "    <tr>\n",
       "      <th>0020198906</th>\n",
       "      <td>-0.010733</td>\n",
       "      <td>-0.008340</td>\n",
       "      <td>-0.008174</td>\n",
       "      <td>-0.008323</td>\n",
       "      <td>-0.008212</td>\n",
       "      <td>-0.010373</td>\n",
       "      <td>-0.011382</td>\n",
       "      <td>1.000000</td>\n",
       "      <td>-0.008287</td>\n",
       "      <td>-0.008023</td>\n",
       "      <td>...</td>\n",
       "      <td>-0.008330</td>\n",
       "      <td>-0.008297</td>\n",
       "      <td>-0.009553</td>\n",
       "      <td>-0.008324</td>\n",
       "      <td>-0.008327</td>\n",
       "      <td>-0.008272</td>\n",
       "      <td>-0.009320</td>\n",
       "      <td>-0.008141</td>\n",
       "      <td>-0.008278</td>\n",
       "      <td>-0.008330</td>\n",
       "    </tr>\n",
       "    <tr>\n",
       "      <th>0020199600</th>\n",
       "      <td>-0.008601</td>\n",
       "      <td>-0.006684</td>\n",
       "      <td>-0.006550</td>\n",
       "      <td>-0.006670</td>\n",
       "      <td>-0.006581</td>\n",
       "      <td>-0.008313</td>\n",
       "      <td>0.220225</td>\n",
       "      <td>-0.008287</td>\n",
       "      <td>1.000000</td>\n",
       "      <td>-0.006430</td>\n",
       "      <td>...</td>\n",
       "      <td>-0.006675</td>\n",
       "      <td>-0.006649</td>\n",
       "      <td>-0.007655</td>\n",
       "      <td>-0.006671</td>\n",
       "      <td>-0.006673</td>\n",
       "      <td>-0.006629</td>\n",
       "      <td>-0.007469</td>\n",
       "      <td>-0.006524</td>\n",
       "      <td>-0.006633</td>\n",
       "      <td>-0.006675</td>\n",
       "    </tr>\n",
       "    <tr>\n",
       "      <th>002026478X</th>\n",
       "      <td>-0.008327</td>\n",
       "      <td>-0.006471</td>\n",
       "      <td>-0.006342</td>\n",
       "      <td>-0.006458</td>\n",
       "      <td>-0.006371</td>\n",
       "      <td>-0.008048</td>\n",
       "      <td>-0.008831</td>\n",
       "      <td>-0.008023</td>\n",
       "      <td>-0.006430</td>\n",
       "      <td>1.000000</td>\n",
       "      <td>...</td>\n",
       "      <td>-0.006463</td>\n",
       "      <td>-0.006437</td>\n",
       "      <td>-0.007411</td>\n",
       "      <td>-0.006459</td>\n",
       "      <td>-0.006461</td>\n",
       "      <td>-0.006418</td>\n",
       "      <td>-0.007231</td>\n",
       "      <td>-0.006317</td>\n",
       "      <td>-0.006422</td>\n",
       "      <td>-0.006463</td>\n",
       "    </tr>\n",
       "  </tbody>\n",
       "</table>\n",
       "<p>10 rows × 6668 columns</p>\n",
       "</div>"
      ],
      "text/plain": [
       "ISBN        000649840X  0006546684  0006547834  0006550789  0006742939  \\\n",
       "ISBN                                                                     \n",
       "000649840X  1.000000    0.279243    0.193059    0.265604   -0.008523     \n",
       "0006546684  0.279243    1.000000    0.228326    0.312945   -0.006623     \n",
       "0006547834  0.193059    0.228326    1.000000    0.217197   -0.006491     \n",
       "0006550789  0.265604    0.312945    0.217197    1.000000   -0.006609     \n",
       "0006742939 -0.008523   -0.006623   -0.006491   -0.006609    1.000000     \n",
       "0007154615  0.210401    0.249427    0.172268    0.237216   -0.008238     \n",
       "0020125305 -0.011813   -0.009180   -0.008997   -0.009161   -0.009039     \n",
       "0020198906 -0.010733   -0.008340   -0.008174   -0.008323   -0.008212     \n",
       "0020199600 -0.008601   -0.006684   -0.006550   -0.006670   -0.006581     \n",
       "002026478X -0.008327   -0.006471   -0.006342   -0.006458   -0.006371     \n",
       "\n",
       "ISBN        0007154615  0020125305  0020198906  0020199600  002026478X  ...  \\\n",
       "ISBN                                                                    ...   \n",
       "000649840X  0.210401   -0.011813   -0.010733   -0.008601   -0.008327    ...   \n",
       "0006546684  0.249427   -0.009180   -0.008340   -0.006684   -0.006471    ...   \n",
       "0006547834  0.172268   -0.008997   -0.008174   -0.006550   -0.006342    ...   \n",
       "0006550789  0.237216   -0.009161   -0.008323   -0.006670   -0.006458    ...   \n",
       "0006742939 -0.008238   -0.009039   -0.008212   -0.006581   -0.006371    ...   \n",
       "0007154615  1.000000   -0.011418   -0.010373   -0.008313   -0.008048    ...   \n",
       "0020125305 -0.011418    1.000000   -0.011382    0.220225   -0.008831    ...   \n",
       "0020198906 -0.010373   -0.011382    1.000000   -0.008287   -0.008023    ...   \n",
       "0020199600 -0.008313    0.220225   -0.008287    1.000000   -0.006430    ...   \n",
       "002026478X -0.008048   -0.008831   -0.008023   -0.006430    1.000000    ...   \n",
       "\n",
       "ISBN        3404148665  3442431875  3522128001  8251800811  8401328942  \\\n",
       "ISBN                                                                     \n",
       "000649840X  0.299423    0.241990   -0.009914   -0.008640   -0.008642     \n",
       "0006546684  0.352367    0.285409   -0.007704   -0.006714   -0.006716     \n",
       "0006547834  0.244792    0.197927   -0.007551   -0.006580   -0.006582     \n",
       "0006550789  0.335348    0.271568   -0.007688   -0.006700   -0.006702     \n",
       "0006742939 -0.006615   -0.006589   -0.007586   -0.006611   -0.006612     \n",
       "0007154615  0.267497    0.216073   -0.009582   -0.008350   -0.008353     \n",
       "0020125305 -0.009168   -0.009132   -0.010514   -0.009162   -0.009165     \n",
       "0020198906 -0.008330   -0.008297   -0.009553   -0.008324   -0.008327     \n",
       "0020199600 -0.006675   -0.006649   -0.007655   -0.006671   -0.006673     \n",
       "002026478X -0.006463   -0.006437   -0.007411   -0.006459   -0.006461     \n",
       "\n",
       "ISBN        842046435X  8420482013  8423310353  8478886451  950491036X  \n",
       "ISBN                                                                    \n",
       "000649840X -0.008585    0.151191    0.248143   -0.008591   -0.008645    \n",
       "0006546684 -0.006671    0.179987    0.292519   -0.006676   -0.006718    \n",
       "0006547834 -0.006538    0.123895    0.202939   -0.006543   -0.006584    \n",
       "0006550789 -0.006657    0.171109    0.278346   -0.006662   -0.006704    \n",
       "0006742939 -0.006569   -0.007401   -0.006465   -0.006573   -0.006615    \n",
       "0007154615 -0.008297    0.134694    0.221594   -0.008303   -0.008355    \n",
       "0020125305 -0.009104   -0.010259   -0.008961   -0.009111   -0.009168    \n",
       "0020198906 -0.008272   -0.009320   -0.008141   -0.008278   -0.008330    \n",
       "0020199600 -0.006629   -0.007469   -0.006524   -0.006633   -0.006675    \n",
       "002026478X -0.006418   -0.007231   -0.006317   -0.006422   -0.006463    \n",
       "\n",
       "[10 rows x 6668 columns]"
      ]
     },
     "execution_count": 255,
     "metadata": {},
     "output_type": "execute_result"
    }
   ],
   "source": [
    "# Building Similarity Matrix\n",
    "item_similarity_df = test_rating.corr(method='pearson') \n",
    "item_similarity_df.head(10)"
   ]
  },
  {
   "cell_type": "markdown",
   "metadata": {},
   "source": [
    "2. A function for returning all the top 20 similar items based on the similarity matrix created earlier"
   ]
  },
  {
   "cell_type": "code",
   "execution_count": 32,
   "metadata": {},
   "outputs": [],
   "source": [
    "def get_similar_items(item_id, test_rating):\n",
    "    similar_score = item_similarity_df[item_id] *(test_rating-2.5)\n",
    "    similar_score = similar_score.sort_values(ascending=False)\n",
    "    return similar_score.iloc[:20]"
   ]
  },
  {
   "cell_type": "markdown",
   "metadata": {},
   "source": [
    "3. This is just a simple function for getting the book title and book isbn when correct input is provided"
   ]
  },
  {
   "cell_type": "code",
   "execution_count": 33,
   "metadata": {},
   "outputs": [],
   "source": [
    "def get_book_title(isbn):\n",
    "    title = books.loc[books.ISBN == isbn, 'bookTitle']\n",
    "    return title.values[0]\n",
    "\n",
    "def get_book_isbn(bookTitle):\n",
    "    isbn = books.loc[books.bookTitle == bookTitle, 'ISBN']\n",
    "    isbn = list(isbn)\n",
    "    return isbn[0]"
   ]
  },
  {
   "cell_type": "markdown",
   "metadata": {},
   "source": [
    "4. Getting only the books that are in final preprocessed dataset"
   ]
  },
  {
   "cell_type": "code",
   "execution_count": 249,
   "metadata": {},
   "outputs": [],
   "source": [
    "bookDetail = books[books.ISBN.isin(test_rating.columns)]"
   ]
  },
  {
   "cell_type": "code",
   "execution_count": 250,
   "metadata": {},
   "outputs": [
    {
     "data": {
      "text/plain": [
       "(3843, 8)"
      ]
     },
     "execution_count": 250,
     "metadata": {},
     "output_type": "execute_result"
    }
   ],
   "source": [
    "bookDetail.shape"
   ]
  },
  {
   "cell_type": "markdown",
   "metadata": {},
   "source": [
    "5.This is the final function that we need to get the top 20 books, based on the books and its ratings given by that particular user.<br>\n",
    "The recommend function takes book_lover as an arguement that is nothing but list which contains the pairs of books and its ratings"
   ]
  },
  {
   "cell_type": "code",
   "execution_count": 42,
   "metadata": {},
   "outputs": [],
   "source": [
    "def recommend(book_lover):\n",
    "    similar_items = pd.DataFrame()\n",
    "\n",
    "    for item,rating in book_lover:\n",
    "        similar_items =similar_items.append(get_similar_items(item, rating), ignore_index=True)\n",
    "\n",
    "    similar_items.head()\n",
    "    recommended = similar_items.sum().sort_values(ascending=False)\n",
    "    rec_10 =[]\n",
    "    for i in recommended[:20].index:\n",
    "        rec_10.append(get_book_title(i))\n",
    "    return rec_10"
   ]
  },
  {
   "cell_type": "markdown",
   "metadata": {},
   "source": [
    "TESTING THE FUNCTION"
   ]
  },
  {
   "cell_type": "code",
   "execution_count": 43,
   "metadata": {
    "scrolled": true
   },
   "outputs": [
    {
     "data": {
      "text/plain": [
       "['1551666758',\n",
       " '0425182908',\n",
       " '0446609919',\n",
       " '1551669390',\n",
       " '0743436830',\n",
       " '0373483902',\n",
       " '0515134368',\n",
       " '0399150870',\n",
       " '0553583980',\n",
       " '0373484836',\n",
       " '0399149309',\n",
       " '0312251947',\n",
       " '0743423682',\n",
       " '0505524619',\n",
       " '0060514930',\n",
       " '0743423585',\n",
       " '0515133868',\n",
       " '0425172546',\n",
       " '0373791178',\n",
       " '0515131660']"
      ]
     },
     "execution_count": 43,
     "metadata": {},
     "output_type": "execute_result"
    }
   ],
   "source": [
    "book_lover = [(get_book_isbn('The Perfect Lie'),9), (get_book_isbn('Isle of Dogs'), 8)]\n",
    "recommend(book_lover)"
   ]
  },
  {
   "cell_type": "markdown",
   "metadata": {},
   "source": [
    "The following code creates a joblib file to store all the created variables that we need for the django project. What it does is, it takes the variable, dataframe or trained model, and stores it as a joblib file which can be loaded to another project when needed."
   ]
  },
  {
   "cell_type": "code",
   "execution_count": 44,
   "metadata": {},
   "outputs": [],
   "source": [
    "joblib.dump(item_similarity_df, \"./item_similarity.joblib\", compress=True)"
   ]
  },
  {
   "cell_type": "code",
   "execution_count": 256,
   "metadata": {},
   "outputs": [
    {
     "data": {
      "text/plain": [
       "['./test_rating.joblib']"
      ]
     },
     "execution_count": 256,
     "metadata": {},
     "output_type": "execute_result"
    }
   ],
   "source": [
    "joblib.dump(test_rating, \"./test_rating.joblib\", compress=True)"
   ]
  },
  {
   "cell_type": "code",
   "execution_count": 251,
   "metadata": {},
   "outputs": [
    {
     "data": {
      "text/plain": [
       "['./books.joblib']"
      ]
     },
     "execution_count": 251,
     "metadata": {},
     "output_type": "execute_result"
    }
   ],
   "source": [
    "joblib.dump(bookDetail, \"./books.joblib\", compress=True)"
   ]
  }
 ],
 "metadata": {
  "kernelspec": {
   "display_name": "Python 3",
   "language": "python",
   "name": "python3"
  },
  "language_info": {
   "codemirror_mode": {
    "name": "ipython",
    "version": 3
   },
   "file_extension": ".py",
   "mimetype": "text/x-python",
   "name": "python",
   "nbconvert_exporter": "python",
   "pygments_lexer": "ipython3",
   "version": "3.8.3"
  }
 },
 "nbformat": 4,
 "nbformat_minor": 4
}
